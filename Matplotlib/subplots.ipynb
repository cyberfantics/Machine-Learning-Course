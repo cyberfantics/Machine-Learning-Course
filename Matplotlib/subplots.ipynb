{
 "cells": [
  {
   "cell_type": "code",
   "execution_count": 1,
   "id": "10bedc73",
   "metadata": {},
   "outputs": [],
   "source": [
    "import matplotlib.pyplot as plt\n",
    "import numpy as np"
   ]
  },
  {
   "cell_type": "code",
   "execution_count": 2,
   "id": "7e785d13",
   "metadata": {},
   "outputs": [],
   "source": [
    "a = np.linspace(0,11,10)\n",
    "b = a**4"
   ]
  },
  {
   "cell_type": "code",
   "execution_count": 3,
   "id": "1550b649",
   "metadata": {},
   "outputs": [],
   "source": [
    "x = np.arange(0,10)\n",
    "y = x*2"
   ]
  },
  {
   "cell_type": "code",
   "execution_count": 4,
   "id": "6eb21fe1",
   "metadata": {},
   "outputs": [
    {
     "data": {
      "text/plain": [
       "array([ 0.        ,  1.22222222,  2.44444444,  3.66666667,  4.88888889,\n",
       "        6.11111111,  7.33333333,  8.55555556,  9.77777778, 11.        ])"
      ]
     },
     "execution_count": 4,
     "metadata": {},
     "output_type": "execute_result"
    }
   ],
   "source": [
    "a"
   ]
  },
  {
   "cell_type": "code",
   "execution_count": 5,
   "id": "1175d582",
   "metadata": {},
   "outputs": [
    {
     "data": {
      "text/plain": [
       "array([0.00000000e+00, 2.23151959e+00, 3.57043134e+01, 1.80753086e+02,\n",
       "       5.71269014e+02, 1.39469974e+03, 2.89204938e+03, 5.35787852e+03,\n",
       "       9.14030422e+03, 1.46410000e+04])"
      ]
     },
     "execution_count": 5,
     "metadata": {},
     "output_type": "execute_result"
    }
   ],
   "source": [
    "b"
   ]
  },
  {
   "cell_type": "code",
   "execution_count": 6,
   "id": "8e9098fd",
   "metadata": {},
   "outputs": [
    {
     "data": {
      "text/plain": [
       "array([0, 1, 2, 3, 4, 5, 6, 7, 8, 9])"
      ]
     },
     "execution_count": 6,
     "metadata": {},
     "output_type": "execute_result"
    }
   ],
   "source": [
    "x"
   ]
  },
  {
   "cell_type": "code",
   "execution_count": 7,
   "id": "4718370f",
   "metadata": {},
   "outputs": [
    {
     "data": {
      "text/plain": [
       "array([ 0,  2,  4,  6,  8, 10, 12, 14, 16, 18])"
      ]
     },
     "execution_count": 7,
     "metadata": {},
     "output_type": "execute_result"
    }
   ],
   "source": [
    "y"
   ]
  },
  {
   "cell_type": "code",
   "execution_count": null,
   "id": "8b106b46",
   "metadata": {},
   "outputs": [],
   "source": []
  },
  {
   "cell_type": "code",
   "execution_count": 8,
   "id": "20ef87a1",
   "metadata": {},
   "outputs": [
    {
     "data": {
      "image/png": "[encoded data removed]",
      "text/plain": [
       "<Figure size 500x300 with 2 Axes>"
      ]
     },
     "metadata": {
      "needs_background": "light"
     },
     "output_type": "display_data"
    }
   ],
   "source": [
    "fig,axes = plt.subplots(nrows=1,ncols=2,figsize=(5,3),dpi=100)\n",
    "axes[0].plot(a,b)\n",
    "axes[1].plot(x,y)\n",
    "axes[0].set_title(\"Values of a and b\")\n",
    "axes[0].set_xlabel(\"a axis\")\n",
    "axes[0].set_ylabel(\"b axis\")\n",
    "axes[1].set_title(\"Values of x and y\")\n",
    "axes[1].set_xlabel(\"x axis\")\n",
    "axes[1].set_ylabel(\"y axis\")\n",
    "fig.suptitle(\"Subplots\",fontsize=24)\n",
    "plt.tight_layout()\n",
    "fig.subplots_adjust(wspace=1)\n",
    "#fig.savefig(\"subplots.png\",bbox_inches='tight')"
   ]
  },
  {
   "cell_type": "code",
   "execution_count": null,
   "id": "255dc487",
   "metadata": {},
   "outputs": [],
   "source": []
  }
 ],
 "metadata": {
  "kernelspec": {
   "display_name": "Python 3 (ipykernel)",
   "language": "python",
   "name": "python3"
  },
  "language_info": {
   "codemirror_mode": {
    "name": "ipython",
    "version": 3
   },
   "file_extension": ".py",
   "mimetype": "text/x-python",
   "name": "python",
   "nbconvert_exporter": "python",
   "pygments_lexer": "ipython3",
   "version": "3.9.12"
  }
 },
 "nbformat": 4,
 "nbformat_minor": 5
}
