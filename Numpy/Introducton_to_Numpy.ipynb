{
 "cells": [
  {
   "cell_type": "markdown",
   "id": "6c5c0317",
   "metadata": {},
   "source": [
    "\n",
    "\n",
    "\n",
    "\n",
    "\n",
    "\n",
    "# Numpy Basic"
   ]
  },
  {
   "cell_type": "markdown",
   "id": "4a57cd9e",
   "metadata": {},
   "source": [
    "## Array"
   ]
  },
  {
   "cell_type": "code",
   "execution_count": 1,
   "id": "61fab723",
   "metadata": {},
   "outputs": [],
   "source": [
    "import numpy as np\n",
    "import pandas as pd"
   ]
  },
  {
   "cell_type": "code",
   "execution_count": 2,
   "id": "c6071d94",
   "metadata": {},
   "outputs": [],
   "source": [
    "list = [3, 6, 7, 8]"
   ]
  },
  {
   "cell_type": "code",
   "execution_count": 3,
   "id": "1eb3f04f",
   "metadata": {},
   "outputs": [
    {
     "data": {
      "text/plain": [
       "[3, 6, 7, 8]"
      ]
     },
     "execution_count": 3,
     "metadata": {},
     "output_type": "execute_result"
    }
   ],
   "source": [
    "list"
   ]
  },
  {
   "cell_type": "code",
   "execution_count": 4,
   "id": "eac61921",
   "metadata": {},
   "outputs": [
    {
     "data": {
      "text/plain": [
       "list"
      ]
     },
     "execution_count": 4,
     "metadata": {},
     "output_type": "execute_result"
    }
   ],
   "source": [
    "type(list)"
   ]
  },
  {
   "cell_type": "code",
   "execution_count": 5,
   "id": "ea2888d1",
   "metadata": {},
   "outputs": [],
   "source": [
    "array = np.array(list) #Here we convert simple list into numpy array"
   ]
  },
  {
   "cell_type": "code",
   "execution_count": 6,
   "id": "8c1212f8",
   "metadata": {},
   "outputs": [
    {
     "data": {
      "text/plain": [
       "array([3, 6, 7, 8])"
      ]
     },
     "execution_count": 6,
     "metadata": {},
     "output_type": "execute_result"
    }
   ],
   "source": [
    "array"
   ]
  },
  {
   "cell_type": "code",
   "execution_count": 7,
   "id": "d3d1699d",
   "metadata": {},
   "outputs": [
    {
     "data": {
      "text/plain": [
       "numpy.ndarray"
      ]
     },
     "execution_count": 7,
     "metadata": {},
     "output_type": "execute_result"
    }
   ],
   "source": [
    "type(array)"
   ]
  },
  {
   "cell_type": "markdown",
   "id": "d00d7c8e",
   "metadata": {},
   "source": [
    "## 2 dimensional array"
   ]
  },
  {
   "cell_type": "code",
   "execution_count": 8,
   "id": "a56b7690",
   "metadata": {},
   "outputs": [],
   "source": [
    "list = [[4, 6, 7],[4, 3, 6], [7,4, 7]]"
   ]
  },
  {
   "cell_type": "code",
   "execution_count": 9,
   "id": "b3a91557",
   "metadata": {},
   "outputs": [
    {
     "data": {
      "text/plain": [
       "[[4, 6, 7], [4, 3, 6], [7, 4, 7]]"
      ]
     },
     "execution_count": 9,
     "metadata": {},
     "output_type": "execute_result"
    }
   ],
   "source": [
    "list"
   ]
  },
  {
   "cell_type": "code",
   "execution_count": 10,
   "id": "6c22d8f5",
   "metadata": {},
   "outputs": [],
   "source": [
    "array = np.array(list) #here we convert simple list into numpy array"
   ]
  },
  {
   "cell_type": "code",
   "execution_count": 11,
   "id": "ef929362",
   "metadata": {},
   "outputs": [
    {
     "data": {
      "text/plain": [
       "array([[4, 6, 7],\n",
       "       [4, 3, 6],\n",
       "       [7, 4, 7]])"
      ]
     },
     "execution_count": 11,
     "metadata": {},
     "output_type": "execute_result"
    }
   ],
   "source": [
    "array"
   ]
  },
  {
   "cell_type": "code",
   "execution_count": 12,
   "id": "d42b9609",
   "metadata": {},
   "outputs": [],
   "source": [
    "arr= np.array([[[4, 6, 4], #Three dimensional\n",
    "       [6, 7, 7],\n",
    "       [6, 8, 9]],\n",
    "      \n",
    "      [[4, 6, 7],\n",
    "       [6, 8, 5],\n",
    "       [4, 7, 3]]])\n",
    "      "
   ]
  },
  {
   "cell_type": "code",
   "execution_count": 13,
   "id": "3e834e07",
   "metadata": {},
   "outputs": [
    {
     "data": {
      "text/plain": [
       "array([[[4, 6, 4],\n",
       "        [6, 7, 7],\n",
       "        [6, 8, 9]],\n",
       "\n",
       "       [[4, 6, 7],\n",
       "        [6, 8, 5],\n",
       "        [4, 7, 3]]])"
      ]
     },
     "execution_count": 13,
     "metadata": {},
     "output_type": "execute_result"
    }
   ],
   "source": [
    "arr"
   ]
  },
  {
   "cell_type": "code",
   "execution_count": 14,
   "id": "0f86412e",
   "metadata": {},
   "outputs": [
    {
     "data": {
      "text/plain": [
       "3"
      ]
     },
     "execution_count": 14,
     "metadata": {},
     "output_type": "execute_result"
    }
   ],
   "source": [
    "arr.ndim #In this way we can check dimensional"
   ]
  },
  {
   "cell_type": "code",
   "execution_count": null,
   "id": "f5b5814a",
   "metadata": {},
   "outputs": [],
   "source": [
    "arr.size"
   ]
  },
  {
   "cell_type": "markdown",
   "id": "365a053b",
   "metadata": {},
   "source": [
    "## Here we make numpy array through simple python array same thing we can do with 2 dimensional array"
   ]
  },
  {
   "cell_type": "code",
   "execution_count": null,
   "id": "da71cdbc",
   "metadata": {},
   "outputs": [],
   "source": []
  },
  {
   "cell_type": "markdown",
   "id": "970c2a05",
   "metadata": {},
   "source": [
    "## Same thing we can do with one dimensional array by simply giving one "
   ]
  },
  {
   "cell_type": "code",
   "execution_count": null,
   "id": "9d75edf6",
   "metadata": {},
   "outputs": [],
   "source": [
    "np.zeros((5,4))  "
   ]
  },
  {
   "cell_type": "code",
   "execution_count": null,
   "id": "6af084bd",
   "metadata": {},
   "outputs": [],
   "source": [
    "np.ones((3,2))"
   ]
  },
  {
   "cell_type": "code",
   "execution_count": null,
   "id": "5c647845",
   "metadata": {},
   "outputs": [],
   "source": [
    "rang = np.arange(3, 9)"
   ]
  },
  {
   "cell_type": "code",
   "execution_count": null,
   "id": "8577076b",
   "metadata": {},
   "outputs": [],
   "source": [
    "rang"
   ]
  },
  {
   "cell_type": "code",
   "execution_count": null,
   "id": "3f60f986",
   "metadata": {},
   "outputs": [],
   "source": [
    "rang.reshape((2,3)) #Here we change the shape of array "
   ]
  },
  {
   "cell_type": "code",
   "execution_count": null,
   "id": "a1d3409e",
   "metadata": {},
   "outputs": [],
   "source": []
  },
  {
   "cell_type": "code",
   "execution_count": null,
   "id": "7d5a0428",
   "metadata": {},
   "outputs": [],
   "source": [
    "np.eye(4)"
   ]
  },
  {
   "cell_type": "code",
   "execution_count": null,
   "id": "09d5a394",
   "metadata": {},
   "outputs": [],
   "source": [
    "rang.max()"
   ]
  },
  {
   "cell_type": "code",
   "execution_count": null,
   "id": "17bfb482",
   "metadata": {},
   "outputs": [],
   "source": [
    "rang.argmax()"
   ]
  },
  {
   "cell_type": "code",
   "execution_count": null,
   "id": "f9148dae",
   "metadata": {},
   "outputs": [],
   "source": [
    "linspac = np.linspace(1,6,8)"
   ]
  },
  {
   "cell_type": "code",
   "execution_count": null,
   "id": "552ef3e8",
   "metadata": {},
   "outputs": [],
   "source": [
    "linspac"
   ]
  },
  {
   "cell_type": "code",
   "execution_count": null,
   "id": "137da115",
   "metadata": {},
   "outputs": [],
   "source": [
    "len(linspac)"
   ]
  },
  {
   "cell_type": "code",
   "execution_count": null,
   "id": "d1e12062",
   "metadata": {},
   "outputs": [],
   "source": []
  },
  {
   "cell_type": "markdown",
   "id": "f195fa87",
   "metadata": {},
   "source": [
    "## Random Numberz"
   ]
  },
  {
   "cell_type": "code",
   "execution_count": null,
   "id": "ef89c3db",
   "metadata": {},
   "outputs": [],
   "source": [
    "np.random.rand(2,2)"
   ]
  },
  {
   "cell_type": "code",
   "execution_count": null,
   "id": "9ba47f10",
   "metadata": {},
   "outputs": [],
   "source": [
    "np.random.randint(3,67,(2,4)) #Here we give (2,4) an array row and column"
   ]
  },
  {
   "cell_type": "code",
   "execution_count": null,
   "id": "20f6d0f9",
   "metadata": {},
   "outputs": [],
   "source": [
    "np.random.choice(7,5) #Here 7 is a highest number and all the numberz chosen randomly are less than 7 and 5 is the length of array"
   ]
  },
  {
   "cell_type": "code",
   "execution_count": null,
   "id": "edfbd0a9",
   "metadata": {},
   "outputs": [],
   "source": []
  },
  {
   "cell_type": "markdown",
   "id": "729956ff",
   "metadata": {},
   "source": [
    "## Python Indexing and selction"
   ]
  },
  {
   "cell_type": "code",
   "execution_count": null,
   "id": "00ff635b",
   "metadata": {},
   "outputs": [],
   "source": [
    "arr"
   ]
  },
  {
   "cell_type": "code",
   "execution_count": null,
   "id": "a6a55c2f",
   "metadata": {},
   "outputs": [],
   "source": [
    "arr[0,1,1] #Finding 3*3 using indexes"
   ]
  },
  {
   "cell_type": "code",
   "execution_count": null,
   "id": "01bc6f35",
   "metadata": {},
   "outputs": [],
   "source": [
    "arr[1: 2 :2]"
   ]
  },
  {
   "cell_type": "code",
   "execution_count": null,
   "id": "41776c56",
   "metadata": {},
   "outputs": [],
   "source": [
    "array"
   ]
  },
  {
   "cell_type": "code",
   "execution_count": null,
   "id": "c39a2bd7",
   "metadata": {},
   "outputs": [],
   "source": [
    "array[1][1] #in two dimensional"
   ]
  },
  {
   "cell_type": "code",
   "execution_count": null,
   "id": "e013525f",
   "metadata": {},
   "outputs": [],
   "source": []
  },
  {
   "cell_type": "code",
   "execution_count": null,
   "id": "31ad7c85",
   "metadata": {},
   "outputs": [],
   "source": [
    "array[:2] #Not included two"
   ]
  },
  {
   "cell_type": "code",
   "execution_count": null,
   "id": "d6601edb",
   "metadata": {},
   "outputs": [],
   "source": []
  },
  {
   "cell_type": "code",
   "execution_count": null,
   "id": "3d24749a",
   "metadata": {},
   "outputs": [],
   "source": [
    "array[2:]"
   ]
  },
  {
   "cell_type": "code",
   "execution_count": null,
   "id": "2a53f389",
   "metadata": {},
   "outputs": [],
   "source": [
    "array[2:] = 5 #Give 3 column = 5"
   ]
  },
  {
   "cell_type": "code",
   "execution_count": null,
   "id": "129e6b4e",
   "metadata": {},
   "outputs": [],
   "source": [
    "array "
   ]
  },
  {
   "cell_type": "code",
   "execution_count": null,
   "id": "4e57857c",
   "metadata": {},
   "outputs": [],
   "source": [
    "array2 = array.copy() #Make a copy of the previous array"
   ]
  },
  {
   "cell_type": "code",
   "execution_count": null,
   "id": "1d83b19b",
   "metadata": {},
   "outputs": [],
   "source": [
    "array2 "
   ]
  },
  {
   "cell_type": "code",
   "execution_count": null,
   "id": "450c7fbf",
   "metadata": {},
   "outputs": [],
   "source": []
  },
  {
   "cell_type": "code",
   "execution_count": null,
   "id": "8639ae8f",
   "metadata": {},
   "outputs": [],
   "source": [
    "array1 = np.array([5, 4, 6, 7, 3, 2])"
   ]
  },
  {
   "cell_type": "code",
   "execution_count": null,
   "id": "e1c854c0",
   "metadata": {},
   "outputs": [],
   "source": [
    "array1"
   ]
  },
  {
   "cell_type": "code",
   "execution_count": null,
   "id": "f1132dfa",
   "metadata": {},
   "outputs": [],
   "source": [
    "arra = array1>4"
   ]
  },
  {
   "cell_type": "code",
   "execution_count": null,
   "id": "3c708bdc",
   "metadata": {},
   "outputs": [],
   "source": [
    "array1[arra]"
   ]
  },
  {
   "cell_type": "code",
   "execution_count": null,
   "id": "99534cb3",
   "metadata": {},
   "outputs": [],
   "source": []
  },
  {
   "cell_type": "markdown",
   "id": "8646ca5d",
   "metadata": {},
   "source": [
    "## Random seed"
   ]
  },
  {
   "cell_type": "code",
   "execution_count": null,
   "id": "9dc7019e",
   "metadata": {},
   "outputs": [],
   "source": [
    "np.random.seed(8) #When we use seed function it generate random number but still same\n",
    "array4 = np.random.randint(1,9,(5,5))"
   ]
  },
  {
   "cell_type": "code",
   "execution_count": null,
   "id": "e4a7ecaa",
   "metadata": {},
   "outputs": [],
   "source": [
    "array4"
   ]
  },
  {
   "cell_type": "code",
   "execution_count": null,
   "id": "3b8e1501",
   "metadata": {},
   "outputs": [],
   "source": []
  },
  {
   "cell_type": "markdown",
   "id": "21f28650",
   "metadata": {},
   "source": [
    "## Arithametic Mean"
   ]
  },
  {
   "cell_type": "code",
   "execution_count": null,
   "id": "99c91c5b",
   "metadata": {},
   "outputs": [],
   "source": [
    "arr"
   ]
  },
  {
   "cell_type": "code",
   "execution_count": null,
   "id": "636662c1",
   "metadata": {},
   "outputs": [],
   "source": [
    "array"
   ]
  },
  {
   "cell_type": "code",
   "execution_count": null,
   "id": "5cdb178b",
   "metadata": {},
   "outputs": [],
   "source": [
    "list"
   ]
  },
  {
   "cell_type": "code",
   "execution_count": null,
   "id": "37970915",
   "metadata": {},
   "outputs": [],
   "source": [
    "list + array"
   ]
  },
  {
   "cell_type": "code",
   "execution_count": null,
   "id": "aa3de873",
   "metadata": {},
   "outputs": [],
   "source": [
    "one = [4, 6, 8]"
   ]
  },
  {
   "cell_type": "code",
   "execution_count": null,
   "id": "e6012576",
   "metadata": {},
   "outputs": [],
   "source": [
    "array + one #add two numbers"
   ]
  },
  {
   "cell_type": "code",
   "execution_count": null,
   "id": "5e4e44ab",
   "metadata": {},
   "outputs": [],
   "source": [
    "np.add(one, array)"
   ]
  },
  {
   "cell_type": "code",
   "execution_count": null,
   "id": "d69a2b2e",
   "metadata": {},
   "outputs": [],
   "source": []
  },
  {
   "cell_type": "code",
   "execution_count": null,
   "id": "bc09d095",
   "metadata": {},
   "outputs": [],
   "source": [
    "np.add(one, one)"
   ]
  },
  {
   "cell_type": "code",
   "execution_count": null,
   "id": "e1b22bd4",
   "metadata": {},
   "outputs": [],
   "source": []
  },
  {
   "cell_type": "code",
   "execution_count": null,
   "id": "6c6bb22d",
   "metadata": {},
   "outputs": [],
   "source": [
    "np.square(array)"
   ]
  },
  {
   "cell_type": "code",
   "execution_count": null,
   "id": "72d79441",
   "metadata": {},
   "outputs": [],
   "source": []
  },
  {
   "cell_type": "code",
   "execution_count": null,
   "id": "207d609d",
   "metadata": {},
   "outputs": [],
   "source": [
    "arr + one"
   ]
  },
  {
   "cell_type": "code",
   "execution_count": null,
   "id": "ab396cfe",
   "metadata": {},
   "outputs": [],
   "source": [
    "arr"
   ]
  },
  {
   "cell_type": "code",
   "execution_count": null,
   "id": "952f35e9",
   "metadata": {},
   "outputs": [],
   "source": [
    "array"
   ]
  },
  {
   "cell_type": "code",
   "execution_count": null,
   "id": "7b76c755",
   "metadata": {},
   "outputs": [],
   "source": [
    "arr + array #It add firstly 2d array wit first part of 3d "
   ]
  },
  {
   "cell_type": "code",
   "execution_count": null,
   "id": "f3558d21",
   "metadata": {},
   "outputs": [],
   "source": []
  }
 ],
 "metadata": {
  "kernelspec": {
   "display_name": "Python 3 (ipykernel)",
   "language": "python",
   "name": "python3"
  },
  "language_info": {
   "codemirror_mode": {
    "name": "ipython",
    "version": 3
   },
   "file_extension": ".py",
   "mimetype": "text/x-python",
   "name": "python",
   "nbconvert_exporter": "python",
   "pygments_lexer": "ipython3",
   "version": "3.9.12"
  }
 },
 "nbformat": 4,
 "nbformat_minor": 5
}
